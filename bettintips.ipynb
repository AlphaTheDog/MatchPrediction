{
 "cells": [
  {
   "cell_type": "markdown",
   "id": "1d4cddf1-522e-43e7-8a02-e41e0b67437e",
   "metadata": {},
   "source": [
    "MARK NDUNG'U NJUGUNA\n",
    "0748417906\n",
    "officialnjugunamark@gmail.com"
   ]
  },
  {
   "cell_type": "code",
   "execution_count": 109,
   "id": "3dd45ad2-507c-48eb-89d1-73df3937c524",
   "metadata": {},
   "outputs": [],
   "source": [
    "from selenium import webdriver\n",
    "from selenium.webdriver.common.by import By\n",
    "from selenium.webdriver.chrome.options import Options\n",
    "from selenium.webdriver.support.ui import WebDriverWait\n",
    "from selenium.webdriver.support import expected_conditions as EC\n",
    "from selenium.webdriver.support.ui import Select\n",
    "from bs4 import BeautifulSoup\n",
    "import openpyxl"
   ]
  },
  {
   "cell_type": "code",
   "execution_count": 2,
   "id": "87a06bbb-0b9d-4d2d-8531-8c0f4879576e",
   "metadata": {},
   "outputs": [],
   "source": [
    "site=\"https://www.olbg.com/betting-tips\""
   ]
  },
  {
   "cell_type": "code",
   "execution_count": 3,
   "id": "2733202f-5251-43e3-bbd7-23daac185ce0",
   "metadata": {},
   "outputs": [],
   "source": [
    "driver=webdriver.Chrome()\n",
    "driver.get(site)"
   ]
  },
  {
   "cell_type": "code",
   "execution_count": 4,
   "id": "3d583463-b580-404e-9195-09a9eb2f3abf",
   "metadata": {},
   "outputs": [],
   "source": [
    "driver.find_element(By.CSS_SELECTOR,\"body > div.ads-modal > div > div > div > div > button\").click()"
   ]
  },
  {
   "cell_type": "code",
   "execution_count": 5,
   "id": "5e920dae-4a04-4462-8b22-9a217c12b7da",
   "metadata": {},
   "outputs": [],
   "source": [
    "driver.find_element(By.CSS_SELECTOR,\"#cookieconsent-bar > div\").click()"
   ]
  },
  {
   "cell_type": "code",
   "execution_count": 6,
   "id": "f5ef6ac9-99ac-496a-89e5-a35d4e0db785",
   "metadata": {},
   "outputs": [],
   "source": [
    "obj=driver.find_element(By.CSS_SELECTOR,\"#tipspage > header > div > div.d-flex.align-items-center.controls > ul > li:nth-child(3) > div > ul > li:nth-child(1) > a\")\n",
    "driver.execute_script(\"arguments[0].scrollIntoView()\",obj)\n",
    "driver.execute_script(\"arguments[0].click()\",obj)"
   ]
  },
  {
   "cell_type": "code",
   "execution_count": 8,
   "id": "99b54943-5d0c-4891-8386-4a6139a8a7bd",
   "metadata": {},
   "outputs": [],
   "source": [
    "soup=BeautifulSoup(driver.page_source,'html.parser')"
   ]
  },
  {
   "cell_type": "code",
   "execution_count": 163,
   "id": "a9374d35-cea7-4dcc-b243-24fe65eadd0c",
   "metadata": {
    "jp-MarkdownHeadingCollapsed": true
   },
   "outputs": [],
   "source": [
    "tips=soup.find_all('li',attrs={\n",
    "    'x-html':'el.template'\n",
    "})\n"
   ]
  },
  {
   "cell_type": "code",
   "execution_count": 203,
   "id": "8178125b-1e79-438a-9144-7b85047a1ca2",
   "metadata": {},
   "outputs": [
    {
     "name": "stdout",
     "output_type": "stream",
     "text": [
      "'NoneType' object has no attribute 'text'\n",
      "'NoneType' object has no attribute 'text'\n"
     ]
    }
   ],
   "source": [
    "wb=openpyxl.Workbook()\n",
    "ws=wb.active\n",
    "header=['selection','odds','probability','ratings','league','hometeam','awayteam','date','time','rate']\n",
    "ws.append(header)\n",
    "for tip in tips[1:]:\n",
    "    try:\n",
    "        #tip=tipp.find('div',class_=\"tip t-grd-1\")\n",
    "        league=tip.find('p',class_=\"league\").text.strip()\n",
    "        dates=tip.find(\"time\",class_=\"h-date\").text\n",
    "        dates.strip().split(\" \")\n",
    "        time=dates.strip().split(\" \")[-1]\n",
    "        datee=dates.strip().split(\" \")[0]+\" \" + dates.strip().split(\" \")[1].replace(\"\\n\",\"\")\n",
    "        date=datee.strip()\n",
    "        teams=tip.find('h5',class_=\"h-ellipsis\").a.text\n",
    "        hometeam=teams.strip().split(' ')[0]\n",
    "        awayteam=teams.strip().split(' ')[-1]\n",
    "        selection=tip.find('div',class_='rw slct').a.text\n",
    "        odds=tip.find('div',class_=\"rw odds\").get_attribute_list('data-srtodds')[0]\n",
    "        meta=tip.find(\"div\",'rw tips')\n",
    "        rates=meta.b.text\n",
    "        rate=rates.split(\" \")[0]\n",
    "        prob=meta.find(\"div\",class_=\"data\").text.strip()\n",
    "        #comments=meta.find(\"span\",class_=\"cmts h-ellipsis\").text.strip().split(\" \")[0]\n",
    "        ratings=tip.find(\"div\",class_=\"rw rtng\").get_attribute_list('data-srtrating')[0]\n",
    "        ws.append([selection,odds,prob,ratings,league,hometeam,awayteam,date,time,rate])\n",
    "    except Exception as e:\n",
    "        print(e)\n",
    "        continue\n",
    "wb.save(\"output.xlsx\")"
   ]
  },
  {
   "cell_type": "code",
   "execution_count": 115,
   "id": "198adee7-619d-4bcc-87b8-7fb65443a5af",
   "metadata": {},
   "outputs": [],
   "source": [
    "dir(openpyxl)\n",
    "wb=openpyxl.Workbook()"
   ]
  }
 ],
 "metadata": {
  "kernelspec": {
   "display_name": "Python 3 (ipykernel)",
   "language": "python",
   "name": "python3"
  },
  "language_info": {
   "codemirror_mode": {
    "name": "ipython",
    "version": 3
   },
   "file_extension": ".py",
   "mimetype": "text/x-python",
   "name": "python",
   "nbconvert_exporter": "python",
   "pygments_lexer": "ipython3",
   "version": "3.10.12"
  }
 },
 "nbformat": 4,
 "nbformat_minor": 5
}
